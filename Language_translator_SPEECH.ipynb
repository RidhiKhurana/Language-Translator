{
 "cells": [
  {
   "cell_type": "code",
   "execution_count": 1,
   "metadata": {},
   "outputs": [],
   "source": [
    "import pandas as pd"
   ]
  },
  {
   "cell_type": "code",
   "execution_count": 2,
   "metadata": {},
   "outputs": [
    {
     "name": "stdout",
     "output_type": "stream",
     "text": [
      "Requirement already satisfied: google-trans-new in /Users/ridhikhurana/opt/anaconda3/lib/python3.7/site-packages (1.1.9)\n",
      "Note: you may need to restart the kernel to use updated packages.\n"
     ]
    }
   ],
   "source": [
    "pip install google-trans-new"
   ]
  },
  {
   "cell_type": "code",
   "execution_count": 3,
   "metadata": {},
   "outputs": [
    {
     "name": "stdout",
     "output_type": "stream",
     "text": [
      "Requirement already satisfied: translate in /Users/ridhikhurana/opt/anaconda3/lib/python3.7/site-packages (3.5.0)\n",
      "Requirement already satisfied: tox in /Users/ridhikhurana/opt/anaconda3/lib/python3.7/site-packages (from translate) (3.23.0)\n",
      "Requirement already satisfied: requests in /Users/ridhikhurana/opt/anaconda3/lib/python3.7/site-packages (from translate) (2.22.0)\n",
      "Requirement already satisfied: click in /Users/ridhikhurana/opt/anaconda3/lib/python3.7/site-packages (from translate) (7.0)\n",
      "Requirement already satisfied: pre-commit in /Users/ridhikhurana/opt/anaconda3/lib/python3.7/site-packages (from translate) (2.12.1)\n",
      "Requirement already satisfied: lxml in /Users/ridhikhurana/opt/anaconda3/lib/python3.7/site-packages (from translate) (4.5.0)\n",
      "Requirement already satisfied: toml>=0.9.4 in /Users/ridhikhurana/opt/anaconda3/lib/python3.7/site-packages (from tox->translate) (0.10.1)\n",
      "Requirement already satisfied: pluggy>=0.12.0 in /Users/ridhikhurana/opt/anaconda3/lib/python3.7/site-packages (from tox->translate) (0.13.1)\n",
      "Requirement already satisfied: six>=1.14.0 in /Users/ridhikhurana/opt/anaconda3/lib/python3.7/site-packages (from tox->translate) (1.14.0)\n",
      "Requirement already satisfied: filelock>=3.0.0 in /Users/ridhikhurana/opt/anaconda3/lib/python3.7/site-packages (from tox->translate) (3.0.12)\n",
      "Requirement already satisfied: virtualenv!=20.0.0,!=20.0.1,!=20.0.2,!=20.0.3,!=20.0.4,!=20.0.5,!=20.0.6,!=20.0.7,>=16.0.0 in /Users/ridhikhurana/opt/anaconda3/lib/python3.7/site-packages (from tox->translate) (20.4.4)\n",
      "Requirement already satisfied: importlib-metadata>=0.12; python_version < \"3.8\" in /Users/ridhikhurana/opt/anaconda3/lib/python3.7/site-packages (from tox->translate) (1.5.0)\n",
      "Requirement already satisfied: py>=1.4.17 in /Users/ridhikhurana/opt/anaconda3/lib/python3.7/site-packages (from tox->translate) (1.8.1)\n",
      "Requirement already satisfied: packaging>=14 in /Users/ridhikhurana/opt/anaconda3/lib/python3.7/site-packages (from tox->translate) (20.1)\n",
      "Requirement already satisfied: certifi>=2017.4.17 in /Users/ridhikhurana/opt/anaconda3/lib/python3.7/site-packages (from requests->translate) (2019.11.28)\n",
      "Requirement already satisfied: idna<2.9,>=2.5 in /Users/ridhikhurana/opt/anaconda3/lib/python3.7/site-packages (from requests->translate) (2.8)\n",
      "Requirement already satisfied: urllib3!=1.25.0,!=1.25.1,<1.26,>=1.21.1 in /Users/ridhikhurana/opt/anaconda3/lib/python3.7/site-packages (from requests->translate) (1.25.8)\n",
      "Requirement already satisfied: chardet<3.1.0,>=3.0.2 in /Users/ridhikhurana/opt/anaconda3/lib/python3.7/site-packages (from requests->translate) (3.0.4)\n",
      "Requirement already satisfied: pyyaml>=5.1 in /Users/ridhikhurana/opt/anaconda3/lib/python3.7/site-packages (from pre-commit->translate) (5.3)\n",
      "Requirement already satisfied: identify>=1.0.0 in /Users/ridhikhurana/opt/anaconda3/lib/python3.7/site-packages (from pre-commit->translate) (2.2.4)\n",
      "Requirement already satisfied: cfgv>=2.0.0 in /Users/ridhikhurana/opt/anaconda3/lib/python3.7/site-packages (from pre-commit->translate) (3.2.0)\n",
      "Requirement already satisfied: nodeenv>=0.11.1 in /Users/ridhikhurana/opt/anaconda3/lib/python3.7/site-packages (from pre-commit->translate) (1.6.0)\n",
      "Requirement already satisfied: distlib<1,>=0.3.1 in /Users/ridhikhurana/opt/anaconda3/lib/python3.7/site-packages (from virtualenv!=20.0.0,!=20.0.1,!=20.0.2,!=20.0.3,!=20.0.4,!=20.0.5,!=20.0.6,!=20.0.7,>=16.0.0->tox->translate) (0.3.1)\n",
      "Requirement already satisfied: appdirs<2,>=1.4.3 in /Users/ridhikhurana/opt/anaconda3/lib/python3.7/site-packages (from virtualenv!=20.0.0,!=20.0.1,!=20.0.2,!=20.0.3,!=20.0.4,!=20.0.5,!=20.0.6,!=20.0.7,>=16.0.0->tox->translate) (1.4.4)\n",
      "Requirement already satisfied: zipp>=0.5 in /Users/ridhikhurana/opt/anaconda3/lib/python3.7/site-packages (from importlib-metadata>=0.12; python_version < \"3.8\"->tox->translate) (2.2.0)\n",
      "Requirement already satisfied: pyparsing>=2.0.2 in /Users/ridhikhurana/opt/anaconda3/lib/python3.7/site-packages (from packaging>=14->tox->translate) (2.4.6)\n",
      "Note: you may need to restart the kernel to use updated packages.\n"
     ]
    }
   ],
   "source": [
    "pip install translate"
   ]
  },
  {
   "cell_type": "markdown",
   "metadata": {},
   "source": [
    "# LANGUAGE TRANSLATOR"
   ]
  },
  {
   "cell_type": "code",
   "execution_count": 4,
   "metadata": {},
   "outputs": [],
   "source": [
    "from translate import Translator"
   ]
  },
  {
   "cell_type": "code",
   "execution_count": 5,
   "metadata": {},
   "outputs": [],
   "source": [
    "translator = Translator(to_lang=\"Hindi\")"
   ]
  },
  {
   "cell_type": "code",
   "execution_count": 10,
   "metadata": {},
   "outputs": [],
   "source": [
    "translation=translator.translate(\"good morning \")"
   ]
  },
  {
   "cell_type": "code",
   "execution_count": 11,
   "metadata": {},
   "outputs": [
    {
     "name": "stdout",
     "output_type": "stream",
     "text": [
      "सुप्रभात\n"
     ]
    }
   ],
   "source": [
    "print(translation)"
   ]
  },
  {
   "cell_type": "markdown",
   "metadata": {},
   "source": [
    "## Between two languages"
   ]
  },
  {
   "cell_type": "code",
   "execution_count": 12,
   "metadata": {},
   "outputs": [
    {
     "name": "stdout",
     "output_type": "stream",
     "text": [
      "{'af': 'afrikaans', 'sq': 'albanian', 'am': 'amharic', 'ar': 'arabic', 'hy': 'armenian', 'az': 'azerbaijani', 'eu': 'basque', 'be': 'belarusian', 'bn': 'bengali', 'bs': 'bosnian', 'bg': 'bulgarian', 'ca': 'catalan', 'ceb': 'cebuano', 'ny': 'chichewa', 'zh-cn': 'chinese (simplified)', 'zh-tw': 'chinese (traditional)', 'co': 'corsican', 'hr': 'croatian', 'cs': 'czech', 'da': 'danish', 'nl': 'dutch', 'en': 'english', 'eo': 'esperanto', 'et': 'estonian', 'tl': 'filipino', 'fi': 'finnish', 'fr': 'french', 'fy': 'frisian', 'gl': 'galician', 'ka': 'georgian', 'de': 'german', 'el': 'greek', 'gu': 'gujarati', 'ht': 'haitian creole', 'ha': 'hausa', 'haw': 'hawaiian', 'iw': 'hebrew', 'he': 'hebrew', 'hi': 'hindi', 'hmn': 'hmong', 'hu': 'hungarian', 'is': 'icelandic', 'ig': 'igbo', 'id': 'indonesian', 'ga': 'irish', 'it': 'italian', 'ja': 'japanese', 'jw': 'javanese', 'kn': 'kannada', 'kk': 'kazakh', 'km': 'khmer', 'ko': 'korean', 'ku': 'kurdish (kurmanji)', 'ky': 'kyrgyz', 'lo': 'lao', 'la': 'latin', 'lv': 'latvian', 'lt': 'lithuanian', 'lb': 'luxembourgish', 'mk': 'macedonian', 'mg': 'malagasy', 'ms': 'malay', 'ml': 'malayalam', 'mt': 'maltese', 'mi': 'maori', 'mr': 'marathi', 'mn': 'mongolian', 'my': 'myanmar (burmese)', 'ne': 'nepali', 'no': 'norwegian', 'or': 'odia', 'ps': 'pashto', 'fa': 'persian', 'pl': 'polish', 'pt': 'portuguese', 'pa': 'punjabi', 'ro': 'romanian', 'ru': 'russian', 'sm': 'samoan', 'gd': 'scots gaelic', 'sr': 'serbian', 'st': 'sesotho', 'sn': 'shona', 'sd': 'sindhi', 'si': 'sinhala', 'sk': 'slovak', 'sl': 'slovenian', 'so': 'somali', 'es': 'spanish', 'su': 'sundanese', 'sw': 'swahili', 'sv': 'swedish', 'tg': 'tajik', 'ta': 'tamil', 'te': 'telugu', 'th': 'thai', 'tr': 'turkish', 'uk': 'ukrainian', 'ur': 'urdu', 'ug': 'uyghur', 'uz': 'uzbek', 'vi': 'vietnamese', 'cy': 'welsh', 'xh': 'xhosa', 'yi': 'yiddish', 'yo': 'yoruba', 'zu': 'zulu'}\n"
     ]
    }
   ],
   "source": [
    "import googletrans\n",
    "print(googletrans.LANGUAGES)"
   ]
  },
  {
   "cell_type": "code",
   "execution_count": 13,
   "metadata": {},
   "outputs": [],
   "source": [
    "from google_trans_new import google_translator"
   ]
  },
  {
   "cell_type": "code",
   "execution_count": 14,
   "metadata": {},
   "outputs": [],
   "source": [
    "translator = google_translator()"
   ]
  },
  {
   "cell_type": "code",
   "execution_count": 17,
   "metadata": {},
   "outputs": [],
   "source": [
    "value= translator.translate(\"How are you?\", lang_src='en', lang_tgt='ko')"
   ]
  },
  {
   "cell_type": "code",
   "execution_count": 18,
   "metadata": {},
   "outputs": [
    {
     "name": "stdout",
     "output_type": "stream",
     "text": [
      "잘 있었 니? \n"
     ]
    }
   ],
   "source": [
    "print(value)"
   ]
  },
  {
   "cell_type": "markdown",
   "metadata": {},
   "source": [
    "## using goslate library"
   ]
  },
  {
   "cell_type": "code",
   "execution_count": 19,
   "metadata": {},
   "outputs": [
    {
     "name": "stdout",
     "output_type": "stream",
     "text": [
      "Requirement already satisfied: goslate in /Users/ridhikhurana/opt/anaconda3/lib/python3.7/site-packages (1.5.1)\n",
      "Requirement already satisfied: futures in /Users/ridhikhurana/opt/anaconda3/lib/python3.7/site-packages (from goslate) (3.1.1)\n",
      "Note: you may need to restart the kernel to use updated packages.\n"
     ]
    }
   ],
   "source": [
    "pip install goslate"
   ]
  },
  {
   "cell_type": "markdown",
   "metadata": {},
   "source": [
    "# SPEECH RECOGNITION"
   ]
  },
  {
   "cell_type": "code",
   "execution_count": 20,
   "metadata": {},
   "outputs": [
    {
     "name": "stdout",
     "output_type": "stream",
     "text": [
      "Requirement already satisfied: PyAudio in /Users/ridhikhurana/opt/anaconda3/lib/python3.7/site-packages (0.2.11)\n",
      "Note: you may need to restart the kernel to use updated packages.\n"
     ]
    }
   ],
   "source": [
    "pip install PyAudio"
   ]
  },
  {
   "cell_type": "code",
   "execution_count": 21,
   "metadata": {},
   "outputs": [
    {
     "name": "stdout",
     "output_type": "stream",
     "text": [
      "Requirement already satisfied: speechrecognition in /Users/ridhikhurana/opt/anaconda3/lib/python3.7/site-packages (3.8.1)\n",
      "Requirement already satisfied: pyttsx3 in /Users/ridhikhurana/opt/anaconda3/lib/python3.7/site-packages (2.90)\n",
      "Requirement already satisfied: googletrans in /Users/ridhikhurana/opt/anaconda3/lib/python3.7/site-packages (3.0.0)\n",
      "Requirement already satisfied: pyobjc>=2.4; platform_system == \"Darwin\" in /Users/ridhikhurana/opt/anaconda3/lib/python3.7/site-packages (from pyttsx3) (7.1)\n",
      "Requirement already satisfied: httpx==0.13.3 in /Users/ridhikhurana/opt/anaconda3/lib/python3.7/site-packages (from googletrans) (0.13.3)\n",
      "Requirement already satisfied: pyobjc-framework-PushKit==7.1; platform_release >= \"19.0\" in /Users/ridhikhurana/opt/anaconda3/lib/python3.7/site-packages (from pyobjc>=2.4; platform_system == \"Darwin\"->pyttsx3) (7.1)\n",
      "Requirement already satisfied: pyobjc-framework-SafariServices==7.1; platform_release >= \"15.0\" in /Users/ridhikhurana/opt/anaconda3/lib/python3.7/site-packages (from pyobjc>=2.4; platform_system == \"Darwin\"->pyttsx3) (7.1)\n",
      "Requirement already satisfied: pyobjc-framework-AdSupport==7.1; platform_release >= \"18.0\" in /Users/ridhikhurana/opt/anaconda3/lib/python3.7/site-packages (from pyobjc>=2.4; platform_system == \"Darwin\"->pyttsx3) (7.1)\n",
      "Requirement already satisfied: pyobjc-framework-SystemExtensions==7.1; platform_release >= \"19.0\" in /Users/ridhikhurana/opt/anaconda3/lib/python3.7/site-packages (from pyobjc>=2.4; platform_system == \"Darwin\"->pyttsx3) (7.1)\n",
      "Requirement already satisfied: pyobjc-framework-SoundAnalysis==7.1; platform_release >= \"19.0\" in /Users/ridhikhurana/opt/anaconda3/lib/python3.7/site-packages (from pyobjc>=2.4; platform_system == \"Darwin\"->pyttsx3) (7.1)\n",
      "Requirement already satisfied: pyobjc-framework-SecurityInterface==7.1 in /Users/ridhikhurana/opt/anaconda3/lib/python3.7/site-packages (from pyobjc>=2.4; platform_system == \"Darwin\"->pyttsx3) (7.1)\n",
      "Requirement already satisfied: pyobjc-framework-UniformTypeIdentifiers==7.1; platform_release >= \"20.0\" in /Users/ridhikhurana/opt/anaconda3/lib/python3.7/site-packages (from pyobjc>=2.4; platform_system == \"Darwin\"->pyttsx3) (7.1)\n",
      "Requirement already satisfied: pyobjc-framework-UserNotifications==7.1; platform_release >= \"18.0\" in /Users/ridhikhurana/opt/anaconda3/lib/python3.7/site-packages (from pyobjc>=2.4; platform_system == \"Darwin\"->pyttsx3) (7.1)\n",
      "Requirement already satisfied: pyobjc-framework-BusinessChat==7.1; platform_release >= \"18.0\" in /Users/ridhikhurana/opt/anaconda3/lib/python3.7/site-packages (from pyobjc>=2.4; platform_system == \"Darwin\"->pyttsx3) (7.1)\n",
      "Requirement already satisfied: pyobjc-framework-AppleScriptObjC==7.1; platform_release >= \"10.0\" in /Users/ridhikhurana/opt/anaconda3/lib/python3.7/site-packages (from pyobjc>=2.4; platform_system == \"Darwin\"->pyttsx3) (7.1)\n",
      "Requirement already satisfied: pyobjc-framework-DictionaryServices==7.1; platform_release >= \"9.0\" in /Users/ridhikhurana/opt/anaconda3/lib/python3.7/site-packages (from pyobjc>=2.4; platform_system == \"Darwin\"->pyttsx3) (7.1)\n",
      "Requirement already satisfied: pyobjc-framework-CalendarStore==7.1; platform_release >= \"9.0\" in /Users/ridhikhurana/opt/anaconda3/lib/python3.7/site-packages (from pyobjc>=2.4; platform_system == \"Darwin\"->pyttsx3) (7.1)\n",
      "Requirement already satisfied: pyobjc-framework-GameController==7.1; platform_release >= \"13.0\" in /Users/ridhikhurana/opt/anaconda3/lib/python3.7/site-packages (from pyobjc>=2.4; platform_system == \"Darwin\"->pyttsx3) (7.1)\n",
      "Requirement already satisfied: pyobjc-framework-ColorSync==7.1; platform_release >= \"17.0\" in /Users/ridhikhurana/opt/anaconda3/lib/python3.7/site-packages (from pyobjc>=2.4; platform_system == \"Darwin\"->pyttsx3) (7.1)\n",
      "Requirement already satisfied: pyobjc-framework-WebKit==7.1 in /Users/ridhikhurana/opt/anaconda3/lib/python3.7/site-packages (from pyobjc>=2.4; platform_system == \"Darwin\"->pyttsx3) (7.1)\n",
      "Requirement already satisfied: pyobjc-framework-MultipeerConnectivity==7.1; platform_release >= \"14.0\" in /Users/ridhikhurana/opt/anaconda3/lib/python3.7/site-packages (from pyobjc>=2.4; platform_system == \"Darwin\"->pyttsx3) (7.1)\n",
      "Requirement already satisfied: pyobjc-framework-NotificationCenter==7.1; platform_release >= \"14.0\" in /Users/ridhikhurana/opt/anaconda3/lib/python3.7/site-packages (from pyobjc>=2.4; platform_system == \"Darwin\"->pyttsx3) (7.1)\n",
      "Requirement already satisfied: pyobjc-framework-CoreAudioKit==7.1 in /Users/ridhikhurana/opt/anaconda3/lib/python3.7/site-packages (from pyobjc>=2.4; platform_system == \"Darwin\"->pyttsx3) (7.1)\n",
      "Requirement already satisfied: pyobjc-framework-Automator==7.1 in /Users/ridhikhurana/opt/anaconda3/lib/python3.7/site-packages (from pyobjc>=2.4; platform_system == \"Darwin\"->pyttsx3) (7.1)\n",
      "Requirement already satisfied: pyobjc-framework-SearchKit==7.1 in /Users/ridhikhurana/opt/anaconda3/lib/python3.7/site-packages (from pyobjc>=2.4; platform_system == \"Darwin\"->pyttsx3) (7.1)\n",
      "Requirement already satisfied: pyobjc-framework-MediaLibrary==7.1; platform_release >= \"13.0\" in /Users/ridhikhurana/opt/anaconda3/lib/python3.7/site-packages (from pyobjc>=2.4; platform_system == \"Darwin\"->pyttsx3) (7.1)\n",
      "Requirement already satisfied: pyobjc-framework-NetworkExtension==7.1; platform_release >= \"15.0\" in /Users/ridhikhurana/opt/anaconda3/lib/python3.7/site-packages (from pyobjc>=2.4; platform_system == \"Darwin\"->pyttsx3) (7.1)\n",
      "Requirement already satisfied: pyobjc-framework-ScreenSaver==7.1 in /Users/ridhikhurana/opt/anaconda3/lib/python3.7/site-packages (from pyobjc>=2.4; platform_system == \"Darwin\"->pyttsx3) (7.1)\n",
      "Requirement already satisfied: pyobjc-framework-InstallerPlugins==7.1 in /Users/ridhikhurana/opt/anaconda3/lib/python3.7/site-packages (from pyobjc>=2.4; platform_system == \"Darwin\"->pyttsx3) (7.1)\n",
      "Requirement already satisfied: pyobjc-framework-MetalKit==7.1; platform_release >= \"15.0\" in /Users/ridhikhurana/opt/anaconda3/lib/python3.7/site-packages (from pyobjc>=2.4; platform_system == \"Darwin\"->pyttsx3) (7.1)\n",
      "Requirement already satisfied: pyobjc-framework-MapKit==7.1; platform_release >= \"13.0\" in /Users/ridhikhurana/opt/anaconda3/lib/python3.7/site-packages (from pyobjc>=2.4; platform_system == \"Darwin\"->pyttsx3) (7.1)\n",
      "Requirement already satisfied: pyobjc-framework-CoreWLAN==7.1; platform_release >= \"10.0\" in /Users/ridhikhurana/opt/anaconda3/lib/python3.7/site-packages (from pyobjc>=2.4; platform_system == \"Darwin\"->pyttsx3) (7.1)\n",
      "Requirement already satisfied: pyobjc-framework-CoreServices==7.1 in /Users/ridhikhurana/opt/anaconda3/lib/python3.7/site-packages (from pyobjc>=2.4; platform_system == \"Darwin\"->pyttsx3) (7.1)\n",
      "Requirement already satisfied: pyobjc-framework-SyncServices==7.1 in /Users/ridhikhurana/opt/anaconda3/lib/python3.7/site-packages (from pyobjc>=2.4; platform_system == \"Darwin\"->pyttsx3) (7.1)\n",
      "Requirement already satisfied: pyobjc-framework-PreferencePanes==7.1 in /Users/ridhikhurana/opt/anaconda3/lib/python3.7/site-packages (from pyobjc>=2.4; platform_system == \"Darwin\"->pyttsx3) (7.1)\n",
      "Requirement already satisfied: pyobjc-framework-FSEvents==7.1; platform_release >= \"9.0\" in /Users/ridhikhurana/opt/anaconda3/lib/python3.7/site-packages (from pyobjc>=2.4; platform_system == \"Darwin\"->pyttsx3) (7.1)\n",
      "Requirement already satisfied: pyobjc-framework-CallKit==7.1; platform_release >= \"20.0\" in /Users/ridhikhurana/opt/anaconda3/lib/python3.7/site-packages (from pyobjc>=2.4; platform_system == \"Darwin\"->pyttsx3) (7.1)\n",
      "Requirement already satisfied: pyobjc-framework-QuickLookThumbnailing==7.1; platform_release >= \"19.0\" in /Users/ridhikhurana/opt/anaconda3/lib/python3.7/site-packages (from pyobjc>=2.4; platform_system == \"Darwin\"->pyttsx3) (7.1)\n",
      "Requirement already satisfied: pyobjc-framework-CoreText==7.1 in /Users/ridhikhurana/opt/anaconda3/lib/python3.7/site-packages (from pyobjc>=2.4; platform_system == \"Darwin\"->pyttsx3) (7.1)\n",
      "Requirement already satisfied: pyobjc-framework-GameCenter==7.1; platform_release >= \"12.0\" in /Users/ridhikhurana/opt/anaconda3/lib/python3.7/site-packages (from pyobjc>=2.4; platform_system == \"Darwin\"->pyttsx3) (7.1)\n",
      "Requirement already satisfied: pyobjc-framework-MetalPerformanceShadersGraph==7.1; platform_release >= \"20.0\" in /Users/ridhikhurana/opt/anaconda3/lib/python3.7/site-packages (from pyobjc>=2.4; platform_system == \"Darwin\"->pyttsx3) (7.1)\n",
      "Requirement already satisfied: pyobjc-framework-KernelManagement==7.1; platform_release >= \"20.0\" in /Users/ridhikhurana/opt/anaconda3/lib/python3.7/site-packages (from pyobjc>=2.4; platform_system == \"Darwin\"->pyttsx3) (7.1)\n",
      "Requirement already satisfied: pyobjc-framework-OSAKit==7.1 in /Users/ridhikhurana/opt/anaconda3/lib/python3.7/site-packages (from pyobjc>=2.4; platform_system == \"Darwin\"->pyttsx3) (7.1)\n",
      "Requirement already satisfied: pyobjc-framework-MLCompute==7.1; platform_release >= \"20.0\" in /Users/ridhikhurana/opt/anaconda3/lib/python3.7/site-packages (from pyobjc>=2.4; platform_system == \"Darwin\"->pyttsx3) (7.1)\n"
     ]
    },
    {
     "name": "stdout",
     "output_type": "stream",
     "text": [
      "Requirement already satisfied: pyobjc-framework-ScreenTime==7.1; platform_release >= \"20.0\" in /Users/ridhikhurana/opt/anaconda3/lib/python3.7/site-packages (from pyobjc>=2.4; platform_system == \"Darwin\"->pyttsx3) (7.1)\n",
      "Requirement already satisfied: pyobjc-framework-GameKit==7.1; platform_release >= \"12.0\" in /Users/ridhikhurana/opt/anaconda3/lib/python3.7/site-packages (from pyobjc>=2.4; platform_system == \"Darwin\"->pyttsx3) (7.1)\n",
      "Requirement already satisfied: pyobjc-framework-LinkPresentation==7.1; platform_release >= \"19.0\" in /Users/ridhikhurana/opt/anaconda3/lib/python3.7/site-packages (from pyobjc>=2.4; platform_system == \"Darwin\"->pyttsx3) (7.1)\n",
      "Requirement already satisfied: pyobjc-framework-AVKit==7.1; platform_release >= \"13.0\" in /Users/ridhikhurana/opt/anaconda3/lib/python3.7/site-packages (from pyobjc>=2.4; platform_system == \"Darwin\"->pyttsx3) (7.1)\n",
      "Requirement already satisfied: pyobjc-framework-InputMethodKit==7.1; platform_release >= \"9.0\" in /Users/ridhikhurana/opt/anaconda3/lib/python3.7/site-packages (from pyobjc>=2.4; platform_system == \"Darwin\"->pyttsx3) (7.1)\n",
      "Requirement already satisfied: pyobjc-framework-GameplayKit==7.1; platform_release >= \"15.0\" in /Users/ridhikhurana/opt/anaconda3/lib/python3.7/site-packages (from pyobjc>=2.4; platform_system == \"Darwin\"->pyttsx3) (7.1)\n",
      "Requirement already satisfied: pyobjc-framework-CoreMIDI==7.1 in /Users/ridhikhurana/opt/anaconda3/lib/python3.7/site-packages (from pyobjc>=2.4; platform_system == \"Darwin\"->pyttsx3) (7.1)\n",
      "Requirement already satisfied: pyobjc-framework-AuthenticationServices==7.1; platform_release >= \"19.0\" in /Users/ridhikhurana/opt/anaconda3/lib/python3.7/site-packages (from pyobjc>=2.4; platform_system == \"Darwin\"->pyttsx3) (7.1)\n",
      "Requirement already satisfied: pyobjc-framework-AdServices==7.1; platform_release >= \"20.0\" in /Users/ridhikhurana/opt/anaconda3/lib/python3.7/site-packages (from pyobjc>=2.4; platform_system == \"Darwin\"->pyttsx3) (7.1)\n",
      "Requirement already satisfied: pyobjc-framework-MediaAccessibility==7.1; platform_release >= \"13.0\" in /Users/ridhikhurana/opt/anaconda3/lib/python3.7/site-packages (from pyobjc>=2.4; platform_system == \"Darwin\"->pyttsx3) (7.1)\n",
      "Requirement already satisfied: pyobjc-framework-CoreMediaIO==7.1; platform_release >= \"11.0\" in /Users/ridhikhurana/opt/anaconda3/lib/python3.7/site-packages (from pyobjc>=2.4; platform_system == \"Darwin\"->pyttsx3) (7.1)\n",
      "Requirement already satisfied: pyobjc-framework-Quartz==7.1 in /Users/ridhikhurana/opt/anaconda3/lib/python3.7/site-packages (from pyobjc>=2.4; platform_system == \"Darwin\"->pyttsx3) (7.1)\n",
      "Requirement already satisfied: pyobjc-framework-CoreData==7.1 in /Users/ridhikhurana/opt/anaconda3/lib/python3.7/site-packages (from pyobjc>=2.4; platform_system == \"Darwin\"->pyttsx3) (7.1)\n",
      "Requirement already satisfied: pyobjc-framework-EventKit==7.1; platform_release >= \"12.0\" in /Users/ridhikhurana/opt/anaconda3/lib/python3.7/site-packages (from pyobjc>=2.4; platform_system == \"Darwin\"->pyttsx3) (7.1)\n",
      "Requirement already satisfied: pyobjc-framework-FinderSync==7.1; platform_release >= \"14.0\" in /Users/ridhikhurana/opt/anaconda3/lib/python3.7/site-packages (from pyobjc>=2.4; platform_system == \"Darwin\"->pyttsx3) (7.1)\n",
      "Requirement already satisfied: pyobjc-framework-NetFS==7.1; platform_release >= \"10.0\" in /Users/ridhikhurana/opt/anaconda3/lib/python3.7/site-packages (from pyobjc>=2.4; platform_system == \"Darwin\"->pyttsx3) (7.1)\n",
      "Requirement already satisfied: pyobjc-framework-PassKit==7.1; platform_release >= \"20.0\" in /Users/ridhikhurana/opt/anaconda3/lib/python3.7/site-packages (from pyobjc>=2.4; platform_system == \"Darwin\"->pyttsx3) (7.1)\n",
      "Requirement already satisfied: pyobjc-framework-Security==7.1 in /Users/ridhikhurana/opt/anaconda3/lib/python3.7/site-packages (from pyobjc>=2.4; platform_system == \"Darwin\"->pyttsx3) (7.1)\n",
      "Requirement already satisfied: pyobjc-core==7.1 in /Users/ridhikhurana/opt/anaconda3/lib/python3.7/site-packages (from pyobjc>=2.4; platform_system == \"Darwin\"->pyttsx3) (7.1)\n",
      "Requirement already satisfied: pyobjc-framework-SpriteKit==7.1; platform_release >= \"13.0\" in /Users/ridhikhurana/opt/anaconda3/lib/python3.7/site-packages (from pyobjc>=2.4; platform_system == \"Darwin\"->pyttsx3) (7.1)\n",
      "Requirement already satisfied: pyobjc-framework-VideoToolbox==7.1; platform_release >= \"12.0\" in /Users/ridhikhurana/opt/anaconda3/lib/python3.7/site-packages (from pyobjc>=2.4; platform_system == \"Darwin\"->pyttsx3) (7.1)\n",
      "Requirement already satisfied: pyobjc-framework-Network==7.1; platform_release >= \"18.0\" in /Users/ridhikhurana/opt/anaconda3/lib/python3.7/site-packages (from pyobjc>=2.4; platform_system == \"Darwin\"->pyttsx3) (7.1)\n",
      "Requirement already satisfied: pyobjc-framework-CoreBluetooth==7.1; platform_release >= \"14.0\" in /Users/ridhikhurana/opt/anaconda3/lib/python3.7/site-packages (from pyobjc>=2.4; platform_system == \"Darwin\"->pyttsx3) (7.1)\n",
      "Requirement already satisfied: pyobjc-framework-MediaPlayer==7.1; platform_release >= \"16.0\" in /Users/ridhikhurana/opt/anaconda3/lib/python3.7/site-packages (from pyobjc>=2.4; platform_system == \"Darwin\"->pyttsx3) (7.1)\n",
      "Requirement already satisfied: pyobjc-framework-DVDPlayback==7.1 in /Users/ridhikhurana/opt/anaconda3/lib/python3.7/site-packages (from pyobjc>=2.4; platform_system == \"Darwin\"->pyttsx3) (7.1)\n",
      "Requirement already satisfied: pyobjc-framework-PencilKit==7.1; platform_release >= \"19.0\" in /Users/ridhikhurana/opt/anaconda3/lib/python3.7/site-packages (from pyobjc>=2.4; platform_system == \"Darwin\"->pyttsx3) (7.1)\n",
      "Requirement already satisfied: pyobjc-framework-LatentSemanticMapping==7.1 in /Users/ridhikhurana/opt/anaconda3/lib/python3.7/site-packages (from pyobjc>=2.4; platform_system == \"Darwin\"->pyttsx3) (7.1)\n",
      "Requirement already satisfied: pyobjc-framework-Photos==7.1; platform_release >= \"15.0\" in /Users/ridhikhurana/opt/anaconda3/lib/python3.7/site-packages (from pyobjc>=2.4; platform_system == \"Darwin\"->pyttsx3) (7.1)\n",
      "Requirement already satisfied: pyobjc-framework-ServiceManagement==7.1; platform_release >= \"10.0\" in /Users/ridhikhurana/opt/anaconda3/lib/python3.7/site-packages (from pyobjc>=2.4; platform_system == \"Darwin\"->pyttsx3) (7.1)\n",
      "Requirement already satisfied: pyobjc-framework-Accounts==7.1; platform_release >= \"12.0\" in /Users/ridhikhurana/opt/anaconda3/lib/python3.7/site-packages (from pyobjc>=2.4; platform_system == \"Darwin\"->pyttsx3) (7.1)\n",
      "Requirement already satisfied: pyobjc-framework-Virtualization==7.1; platform_release >= \"20.0\" in /Users/ridhikhurana/opt/anaconda3/lib/python3.7/site-packages (from pyobjc>=2.4; platform_system == \"Darwin\"->pyttsx3) (7.1)\n",
      "Requirement already satisfied: pyobjc-framework-CFNetwork==7.1 in /Users/ridhikhurana/opt/anaconda3/lib/python3.7/site-packages (from pyobjc>=2.4; platform_system == \"Darwin\"->pyttsx3) (7.1)\n",
      "Requirement already satisfied: pyobjc-framework-ContactsUI==7.1; platform_release >= \"15.0\" in /Users/ridhikhurana/opt/anaconda3/lib/python3.7/site-packages (from pyobjc>=2.4; platform_system == \"Darwin\"->pyttsx3) (7.1)\n",
      "Requirement already satisfied: pyobjc-framework-ImageCaptureCore==7.1; platform_release >= \"10.0\" in /Users/ridhikhurana/opt/anaconda3/lib/python3.7/site-packages (from pyobjc>=2.4; platform_system == \"Darwin\"->pyttsx3) (7.1)\n",
      "Requirement already satisfied: pyobjc-framework-Speech==7.1; platform_release >= \"19.0\" in /Users/ridhikhurana/opt/anaconda3/lib/python3.7/site-packages (from pyobjc>=2.4; platform_system == \"Darwin\"->pyttsx3) (7.1)\n",
      "Requirement already satisfied: pyobjc-framework-CoreHaptics==7.1; platform_release >= \"19.0\" in /Users/ridhikhurana/opt/anaconda3/lib/python3.7/site-packages (from pyobjc>=2.4; platform_system == \"Darwin\"->pyttsx3) (7.1)\n",
      "Requirement already satisfied: pyobjc-framework-MetalPerformanceShaders==7.1; platform_release >= \"17.0\" in /Users/ridhikhurana/opt/anaconda3/lib/python3.7/site-packages (from pyobjc>=2.4; platform_system == \"Darwin\"->pyttsx3) (7.1)\n",
      "Requirement already satisfied: pyobjc-framework-AVFoundation==7.1; platform_release >= \"11.0\" in /Users/ridhikhurana/opt/anaconda3/lib/python3.7/site-packages (from pyobjc>=2.4; platform_system == \"Darwin\"->pyttsx3) (7.1)\n",
      "Requirement already satisfied: pyobjc-framework-libdispatch==7.1; platform_release >= \"12.0\" in /Users/ridhikhurana/opt/anaconda3/lib/python3.7/site-packages (from pyobjc>=2.4; platform_system == \"Darwin\"->pyttsx3) (7.1)\n",
      "Requirement already satisfied: pyobjc-framework-DiskArbitration==7.1 in /Users/ridhikhurana/opt/anaconda3/lib/python3.7/site-packages (from pyobjc>=2.4; platform_system == \"Darwin\"->pyttsx3) (7.1)\n",
      "Requirement already satisfied: pyobjc-framework-Social==7.1; platform_release >= \"12.0\" in /Users/ridhikhurana/opt/anaconda3/lib/python3.7/site-packages (from pyobjc>=2.4; platform_system == \"Darwin\"->pyttsx3) (7.1)\n",
      "Requirement already satisfied: pyobjc-framework-CloudKit==7.1; platform_release >= \"14.0\" in /Users/ridhikhurana/opt/anaconda3/lib/python3.7/site-packages (from pyobjc>=2.4; platform_system == \"Darwin\"->pyttsx3) (7.1)\n",
      "Requirement already satisfied: pyobjc-framework-FileProviderUI==7.1; platform_release >= \"19.0\" in /Users/ridhikhurana/opt/anaconda3/lib/python3.7/site-packages (from pyobjc>=2.4; platform_system == \"Darwin\"->pyttsx3) (7.1)\n"
     ]
    },
    {
     "name": "stdout",
     "output_type": "stream",
     "text": [
      "Requirement already satisfied: pyobjc-framework-UserNotificationsUI==7.1; platform_release >= \"20.0\" in /Users/ridhikhurana/opt/anaconda3/lib/python3.7/site-packages (from pyobjc>=2.4; platform_system == \"Darwin\"->pyttsx3) (7.1)\n",
      "Requirement already satisfied: pyobjc-framework-ExceptionHandling==7.1 in /Users/ridhikhurana/opt/anaconda3/lib/python3.7/site-packages (from pyobjc>=2.4; platform_system == \"Darwin\"->pyttsx3) (7.1)\n",
      "Requirement already satisfied: pyobjc-framework-Collaboration==7.1; platform_release >= \"9.0\" in /Users/ridhikhurana/opt/anaconda3/lib/python3.7/site-packages (from pyobjc>=2.4; platform_system == \"Darwin\"->pyttsx3) (7.1)\n",
      "Requirement already satisfied: pyobjc-framework-OpenDirectory==7.1; platform_release >= \"10.0\" in /Users/ridhikhurana/opt/anaconda3/lib/python3.7/site-packages (from pyobjc>=2.4; platform_system == \"Darwin\"->pyttsx3) (7.1)\n",
      "Requirement already satisfied: pyobjc-framework-LocalAuthentication==7.1; platform_release >= \"14.0\" in /Users/ridhikhurana/opt/anaconda3/lib/python3.7/site-packages (from pyobjc>=2.4; platform_system == \"Darwin\"->pyttsx3) (7.1)\n",
      "Requirement already satisfied: pyobjc-framework-IMServicePlugIn==7.1; platform_release >= \"11.0\" in /Users/ridhikhurana/opt/anaconda3/lib/python3.7/site-packages (from pyobjc>=2.4; platform_system == \"Darwin\"->pyttsx3) (7.1)\n",
      "Requirement already satisfied: pyobjc-framework-Intents==7.1; platform_release >= \"16.0\" in /Users/ridhikhurana/opt/anaconda3/lib/python3.7/site-packages (from pyobjc>=2.4; platform_system == \"Darwin\"->pyttsx3) (7.1)\n",
      "Requirement already satisfied: pyobjc-framework-InstantMessage==7.1; platform_release >= \"9.0\" in /Users/ridhikhurana/opt/anaconda3/lib/python3.7/site-packages (from pyobjc>=2.4; platform_system == \"Darwin\"->pyttsx3) (7.1)\n",
      "Requirement already satisfied: pyobjc-framework-AppleScriptKit==7.1 in /Users/ridhikhurana/opt/anaconda3/lib/python3.7/site-packages (from pyobjc>=2.4; platform_system == \"Darwin\"->pyttsx3) (7.1)\n",
      "Requirement already satisfied: pyobjc-framework-CoreML==7.1; platform_release >= \"17.0\" in /Users/ridhikhurana/opt/anaconda3/lib/python3.7/site-packages (from pyobjc>=2.4; platform_system == \"Darwin\"->pyttsx3) (7.1)\n",
      "Requirement already satisfied: pyobjc-framework-CoreAudio==7.1 in /Users/ridhikhurana/opt/anaconda3/lib/python3.7/site-packages (from pyobjc>=2.4; platform_system == \"Darwin\"->pyttsx3) (7.1)\n",
      "Requirement already satisfied: pyobjc-framework-ReplayKit==7.1; platform_release >= \"20.0\" in /Users/ridhikhurana/opt/anaconda3/lib/python3.7/site-packages (from pyobjc>=2.4; platform_system == \"Darwin\"->pyttsx3) (7.1)\n",
      "Requirement already satisfied: pyobjc-framework-AddressBook==7.1 in /Users/ridhikhurana/opt/anaconda3/lib/python3.7/site-packages (from pyobjc>=2.4; platform_system == \"Darwin\"->pyttsx3) (7.1)\n",
      "Requirement already satisfied: pyobjc-framework-SystemConfiguration==7.1 in /Users/ridhikhurana/opt/anaconda3/lib/python3.7/site-packages (from pyobjc>=2.4; platform_system == \"Darwin\"->pyttsx3) (7.1)\n",
      "Requirement already satisfied: pyobjc-framework-CoreMedia==7.1; platform_release >= \"11.0\" in /Users/ridhikhurana/opt/anaconda3/lib/python3.7/site-packages (from pyobjc>=2.4; platform_system == \"Darwin\"->pyttsx3) (7.1)\n",
      "Requirement already satisfied: pyobjc-framework-AutomaticAssessmentConfiguration==7.1; platform_release >= \"19.0\" in /Users/ridhikhurana/opt/anaconda3/lib/python3.7/site-packages (from pyobjc>=2.4; platform_system == \"Darwin\"->pyttsx3) (7.1)\n",
      "Requirement already satisfied: pyobjc-framework-ApplicationServices==7.1 in /Users/ridhikhurana/opt/anaconda3/lib/python3.7/site-packages (from pyobjc>=2.4; platform_system == \"Darwin\"->pyttsx3) (7.1)\n",
      "Requirement already satisfied: pyobjc-framework-ClassKit==7.1; platform_release >= \"20.0\" in /Users/ridhikhurana/opt/anaconda3/lib/python3.7/site-packages (from pyobjc>=2.4; platform_system == \"Darwin\"->pyttsx3) (7.1)\n",
      "Requirement already satisfied: pyobjc-framework-ExecutionPolicy==7.1; platform_release >= \"19.0\" in /Users/ridhikhurana/opt/anaconda3/lib/python3.7/site-packages (from pyobjc>=2.4; platform_system == \"Darwin\"->pyttsx3) (7.1)\n",
      "Requirement already satisfied: pyobjc-framework-CoreSpotlight==7.1; platform_release >= \"17.0\" in /Users/ridhikhurana/opt/anaconda3/lib/python3.7/site-packages (from pyobjc>=2.4; platform_system == \"Darwin\"->pyttsx3) (7.1)\n",
      "Requirement already satisfied: pyobjc-framework-Vision==7.1; platform_release >= \"17.0\" in /Users/ridhikhurana/opt/anaconda3/lib/python3.7/site-packages (from pyobjc>=2.4; platform_system == \"Darwin\"->pyttsx3) (7.1)\n",
      "Requirement already satisfied: pyobjc-framework-OSLog==7.1; platform_release >= \"19.0\" in /Users/ridhikhurana/opt/anaconda3/lib/python3.7/site-packages (from pyobjc>=2.4; platform_system == \"Darwin\"->pyttsx3) (7.1)\n",
      "Requirement already satisfied: pyobjc-framework-CoreMotion==7.1; platform_release >= \"19.0\" in /Users/ridhikhurana/opt/anaconda3/lib/python3.7/site-packages (from pyobjc>=2.4; platform_system == \"Darwin\"->pyttsx3) (7.1)\n",
      "Requirement already satisfied: pyobjc-framework-FileProvider==7.1; platform_release >= \"19.0\" in /Users/ridhikhurana/opt/anaconda3/lib/python3.7/site-packages (from pyobjc>=2.4; platform_system == \"Darwin\"->pyttsx3) (7.1)\n",
      "Requirement already satisfied: pyobjc-framework-Contacts==7.1; platform_release >= \"15.0\" in /Users/ridhikhurana/opt/anaconda3/lib/python3.7/site-packages (from pyobjc>=2.4; platform_system == \"Darwin\"->pyttsx3) (7.1)\n",
      "Requirement already satisfied: pyobjc-framework-NaturalLanguage==7.1; platform_release >= \"18.0\" in /Users/ridhikhurana/opt/anaconda3/lib/python3.7/site-packages (from pyobjc>=2.4; platform_system == \"Darwin\"->pyttsx3) (7.1)\n",
      "Requirement already satisfied: pyobjc-framework-ModelIO==7.1; platform_release >= \"15.0\" in /Users/ridhikhurana/opt/anaconda3/lib/python3.7/site-packages (from pyobjc>=2.4; platform_system == \"Darwin\"->pyttsx3) (7.1)\n",
      "Requirement already satisfied: pyobjc-framework-Cocoa==7.1 in /Users/ridhikhurana/opt/anaconda3/lib/python3.7/site-packages (from pyobjc>=2.4; platform_system == \"Darwin\"->pyttsx3) (7.1)\n",
      "Requirement already satisfied: pyobjc-framework-DiscRecording==7.1 in /Users/ridhikhurana/opt/anaconda3/lib/python3.7/site-packages (from pyobjc>=2.4; platform_system == \"Darwin\"->pyttsx3) (7.1)\n",
      "Requirement already satisfied: pyobjc-framework-DeviceCheck==7.1; platform_release >= \"19.0\" in /Users/ridhikhurana/opt/anaconda3/lib/python3.7/site-packages (from pyobjc>=2.4; platform_system == \"Darwin\"->pyttsx3) (7.1)\n",
      "Requirement already satisfied: pyobjc-framework-AppTrackingTransparency==7.1; platform_release >= \"20.0\" in /Users/ridhikhurana/opt/anaconda3/lib/python3.7/site-packages (from pyobjc>=2.4; platform_system == \"Darwin\"->pyttsx3) (7.1)\n",
      "Requirement already satisfied: pyobjc-framework-ExternalAccessory==7.1; platform_release >= \"17.0\" in /Users/ridhikhurana/opt/anaconda3/lib/python3.7/site-packages (from pyobjc>=2.4; platform_system == \"Darwin\"->pyttsx3) (7.1)\n",
      "Requirement already satisfied: pyobjc-framework-iTunesLibrary==7.1; platform_release >= \"10.0\" in /Users/ridhikhurana/opt/anaconda3/lib/python3.7/site-packages (from pyobjc>=2.4; platform_system == \"Darwin\"->pyttsx3) (7.1)\n",
      "Requirement already satisfied: pyobjc-framework-LaunchServices==7.1 in /Users/ridhikhurana/opt/anaconda3/lib/python3.7/site-packages (from pyobjc>=2.4; platform_system == \"Darwin\"->pyttsx3) (7.1)\n",
      "Requirement already satisfied: pyobjc-framework-CryptoTokenKit==7.1; platform_release >= \"14.0\" in /Users/ridhikhurana/opt/anaconda3/lib/python3.7/site-packages (from pyobjc>=2.4; platform_system == \"Darwin\"->pyttsx3) (7.1)\n",
      "Requirement already satisfied: pyobjc-framework-MediaToolbox==7.1; platform_release >= \"13.0\" in /Users/ridhikhurana/opt/anaconda3/lib/python3.7/site-packages (from pyobjc>=2.4; platform_system == \"Darwin\"->pyttsx3) (7.1)\n",
      "Requirement already satisfied: pyobjc-framework-StoreKit==7.1; platform_release >= \"11.0\" in /Users/ridhikhurana/opt/anaconda3/lib/python3.7/site-packages (from pyobjc>=2.4; platform_system == \"Darwin\"->pyttsx3) (7.1)\n",
      "Requirement already satisfied: pyobjc-framework-ScriptingBridge==7.1; platform_release >= \"9.0\" in /Users/ridhikhurana/opt/anaconda3/lib/python3.7/site-packages (from pyobjc>=2.4; platform_system == \"Darwin\"->pyttsx3) (7.1)\n",
      "Requirement already satisfied: pyobjc-framework-PhotosUI==7.1; platform_release >= \"15.0\" in /Users/ridhikhurana/opt/anaconda3/lib/python3.7/site-packages (from pyobjc>=2.4; platform_system == \"Darwin\"->pyttsx3) (7.1)\n"
     ]
    },
    {
     "name": "stdout",
     "output_type": "stream",
     "text": [
      "Requirement already satisfied: pyobjc-framework-IOSurface==7.1; platform_release >= \"10.0\" in /Users/ridhikhurana/opt/anaconda3/lib/python3.7/site-packages (from pyobjc>=2.4; platform_system == \"Darwin\"->pyttsx3) (7.1)\n",
      "Requirement already satisfied: pyobjc-framework-Accessibility==7.1; platform_release >= \"20.0\" in /Users/ridhikhurana/opt/anaconda3/lib/python3.7/site-packages (from pyobjc>=2.4; platform_system == \"Darwin\"->pyttsx3) (7.1)\n",
      "Requirement already satisfied: pyobjc-framework-VideoSubscriberAccount==7.1; platform_release >= \"18.0\" in /Users/ridhikhurana/opt/anaconda3/lib/python3.7/site-packages (from pyobjc>=2.4; platform_system == \"Darwin\"->pyttsx3) (7.1)\n",
      "Requirement already satisfied: pyobjc-framework-SecurityFoundation==7.1 in /Users/ridhikhurana/opt/anaconda3/lib/python3.7/site-packages (from pyobjc>=2.4; platform_system == \"Darwin\"->pyttsx3) (7.1)\n",
      "Requirement already satisfied: pyobjc-framework-DiscRecordingUI==7.1 in /Users/ridhikhurana/opt/anaconda3/lib/python3.7/site-packages (from pyobjc>=2.4; platform_system == \"Darwin\"->pyttsx3) (7.1)\n",
      "Requirement already satisfied: pyobjc-framework-Metal==7.1; platform_release >= \"15.0\" in /Users/ridhikhurana/opt/anaconda3/lib/python3.7/site-packages (from pyobjc>=2.4; platform_system == \"Darwin\"->pyttsx3) (7.1)\n",
      "Requirement already satisfied: pyobjc-framework-SceneKit==7.1; platform_release >= \"11.0\" in /Users/ridhikhurana/opt/anaconda3/lib/python3.7/site-packages (from pyobjc>=2.4; platform_system == \"Darwin\"->pyttsx3) (7.1)\n",
      "Requirement already satisfied: pyobjc-framework-CoreLocation==7.1; platform_release >= \"10.0\" in /Users/ridhikhurana/opt/anaconda3/lib/python3.7/site-packages (from pyobjc>=2.4; platform_system == \"Darwin\"->pyttsx3) (7.1)\n",
      "Requirement already satisfied: idna==2.* in /Users/ridhikhurana/opt/anaconda3/lib/python3.7/site-packages (from httpx==0.13.3->googletrans) (2.8)\n",
      "Requirement already satisfied: httpcore==0.9.* in /Users/ridhikhurana/opt/anaconda3/lib/python3.7/site-packages (from httpx==0.13.3->googletrans) (0.9.1)\n",
      "Requirement already satisfied: chardet==3.* in /Users/ridhikhurana/opt/anaconda3/lib/python3.7/site-packages (from httpx==0.13.3->googletrans) (3.0.4)\n",
      "Requirement already satisfied: hstspreload in /Users/ridhikhurana/opt/anaconda3/lib/python3.7/site-packages (from httpx==0.13.3->googletrans) (2020.12.22)\n",
      "Requirement already satisfied: sniffio in /Users/ridhikhurana/opt/anaconda3/lib/python3.7/site-packages (from httpx==0.13.3->googletrans) (1.2.0)\n",
      "Requirement already satisfied: certifi in /Users/ridhikhurana/opt/anaconda3/lib/python3.7/site-packages (from httpx==0.13.3->googletrans) (2019.11.28)\n",
      "Requirement already satisfied: rfc3986<2,>=1.3 in /Users/ridhikhurana/opt/anaconda3/lib/python3.7/site-packages (from httpx==0.13.3->googletrans) (1.4.0)\n",
      "Requirement already satisfied: h11<0.10,>=0.8 in /Users/ridhikhurana/opt/anaconda3/lib/python3.7/site-packages (from httpcore==0.9.*->httpx==0.13.3->googletrans) (0.9.0)\n",
      "Requirement already satisfied: h2==3.* in /Users/ridhikhurana/opt/anaconda3/lib/python3.7/site-packages (from httpcore==0.9.*->httpx==0.13.3->googletrans) (3.2.0)\n",
      "Requirement already satisfied: hpack<4,>=3.0 in /Users/ridhikhurana/opt/anaconda3/lib/python3.7/site-packages (from h2==3.*->httpcore==0.9.*->httpx==0.13.3->googletrans) (3.0.0)\n",
      "Requirement already satisfied: hyperframe<6,>=5.2.0 in /Users/ridhikhurana/opt/anaconda3/lib/python3.7/site-packages (from h2==3.*->httpcore==0.9.*->httpx==0.13.3->googletrans) (5.2.0)\n",
      "Note: you may need to restart the kernel to use updated packages.\n"
     ]
    }
   ],
   "source": [
    "pip install speechrecognition pyttsx3 googletrans"
   ]
  },
  {
   "cell_type": "code",
   "execution_count": 63,
   "metadata": {},
   "outputs": [],
   "source": [
    "import speech_recognition as sr\n",
    "import pyttsx3\n",
    "from googletrans import Translator"
   ]
  },
  {
   "cell_type": "code",
   "execution_count": 64,
   "metadata": {},
   "outputs": [],
   "source": [
    "r = sr.Recognizer()"
   ]
  },
  {
   "cell_type": "code",
   "execution_count": 65,
   "metadata": {},
   "outputs": [],
   "source": [
    "mic = sr.Microphone()"
   ]
  },
  {
   "cell_type": "code",
   "execution_count": 47,
   "metadata": {},
   "outputs": [],
   "source": [
    "#SPEAK IN THE MICROPHONE WHILE EXECUTING THE NEXT LINE OF THE CODE"
   ]
  },
  {
   "cell_type": "code",
   "execution_count": 90,
   "metadata": {},
   "outputs": [],
   "source": [
    "with mic as source: \n",
    "    r.adjust_for_ambient_noise(source) \n",
    "    audio = r.listen(source) \n",
    "result = r.recognize_google(audio)"
   ]
  },
  {
   "cell_type": "code",
   "execution_count": 91,
   "metadata": {},
   "outputs": [
    {
     "name": "stdout",
     "output_type": "stream",
     "text": [
      "how are you\n"
     ]
    }
   ],
   "source": [
    "# If you want to see your result, execute the following\n",
    "print(result)"
   ]
  },
  {
   "cell_type": "markdown",
   "metadata": {},
   "source": [
    "# SPEECH TO TRANSLATION WITH MIC"
   ]
  },
  {
   "cell_type": "code",
   "execution_count": 52,
   "metadata": {},
   "outputs": [],
   "source": [
    "import unicodedata"
   ]
  },
  {
   "cell_type": "code",
   "execution_count": 56,
   "metadata": {},
   "outputs": [
    {
     "name": "stdout",
     "output_type": "stream",
     "text": [
      "Requirement already up-to-date: google-cloud-speech in /Users/ridhikhurana/opt/anaconda3/lib/python3.7/site-packages (2.3.0)\n",
      "Requirement already satisfied, skipping upgrade: libcst>=0.2.5 in /Users/ridhikhurana/opt/anaconda3/lib/python3.7/site-packages (from google-cloud-speech) (0.3.18)\n",
      "Requirement already satisfied, skipping upgrade: google-api-core[grpc]<2.0.0dev,>=1.22.2 in /Users/ridhikhurana/opt/anaconda3/lib/python3.7/site-packages (from google-cloud-speech) (1.26.3)\n",
      "Requirement already satisfied, skipping upgrade: proto-plus>=1.4.0 in /Users/ridhikhurana/opt/anaconda3/lib/python3.7/site-packages (from google-cloud-speech) (1.18.1)\n",
      "Requirement already satisfied, skipping upgrade: typing-inspect>=0.4.0 in /Users/ridhikhurana/opt/anaconda3/lib/python3.7/site-packages (from libcst>=0.2.5->google-cloud-speech) (0.6.0)\n",
      "Requirement already satisfied, skipping upgrade: pyyaml>=5.2 in /Users/ridhikhurana/opt/anaconda3/lib/python3.7/site-packages (from libcst>=0.2.5->google-cloud-speech) (5.3)\n",
      "Requirement already satisfied, skipping upgrade: typing-extensions>=3.7.4.2 in /Users/ridhikhurana/opt/anaconda3/lib/python3.7/site-packages (from libcst>=0.2.5->google-cloud-speech) (3.10.0.0)\n",
      "Requirement already satisfied, skipping upgrade: googleapis-common-protos<2.0dev,>=1.6.0 in /Users/ridhikhurana/opt/anaconda3/lib/python3.7/site-packages (from google-api-core[grpc]<2.0.0dev,>=1.22.2->google-cloud-speech) (1.53.0)\n",
      "Requirement already satisfied, skipping upgrade: protobuf>=3.12.0 in /Users/ridhikhurana/opt/anaconda3/lib/python3.7/site-packages (from google-api-core[grpc]<2.0.0dev,>=1.22.2->google-cloud-speech) (3.13.0)\n",
      "Requirement already satisfied, skipping upgrade: requests<3.0.0dev,>=2.18.0 in /Users/ridhikhurana/opt/anaconda3/lib/python3.7/site-packages (from google-api-core[grpc]<2.0.0dev,>=1.22.2->google-cloud-speech) (2.22.0)\n",
      "Requirement already satisfied, skipping upgrade: pytz in /Users/ridhikhurana/opt/anaconda3/lib/python3.7/site-packages (from google-api-core[grpc]<2.0.0dev,>=1.22.2->google-cloud-speech) (2019.3)\n",
      "Requirement already satisfied, skipping upgrade: setuptools>=40.3.0 in /Users/ridhikhurana/opt/anaconda3/lib/python3.7/site-packages (from google-api-core[grpc]<2.0.0dev,>=1.22.2->google-cloud-speech) (46.0.0.post20200309)\n",
      "Requirement already satisfied, skipping upgrade: six>=1.13.0 in /Users/ridhikhurana/opt/anaconda3/lib/python3.7/site-packages (from google-api-core[grpc]<2.0.0dev,>=1.22.2->google-cloud-speech) (1.14.0)\n",
      "Requirement already satisfied, skipping upgrade: packaging>=14.3 in /Users/ridhikhurana/opt/anaconda3/lib/python3.7/site-packages (from google-api-core[grpc]<2.0.0dev,>=1.22.2->google-cloud-speech) (20.1)\n",
      "Requirement already satisfied, skipping upgrade: google-auth<2.0dev,>=1.21.1 in /Users/ridhikhurana/opt/anaconda3/lib/python3.7/site-packages (from google-api-core[grpc]<2.0.0dev,>=1.22.2->google-cloud-speech) (1.30.0)\n",
      "Requirement already satisfied, skipping upgrade: grpcio<2.0dev,>=1.29.0; extra == \"grpc\" in /Users/ridhikhurana/opt/anaconda3/lib/python3.7/site-packages (from google-api-core[grpc]<2.0.0dev,>=1.22.2->google-cloud-speech) (1.37.1)\n",
      "Requirement already satisfied, skipping upgrade: mypy-extensions>=0.3.0 in /Users/ridhikhurana/opt/anaconda3/lib/python3.7/site-packages (from typing-inspect>=0.4.0->libcst>=0.2.5->google-cloud-speech) (0.4.3)\n",
      "Requirement already satisfied, skipping upgrade: urllib3!=1.25.0,!=1.25.1,<1.26,>=1.21.1 in /Users/ridhikhurana/opt/anaconda3/lib/python3.7/site-packages (from requests<3.0.0dev,>=2.18.0->google-api-core[grpc]<2.0.0dev,>=1.22.2->google-cloud-speech) (1.25.8)\n",
      "Requirement already satisfied, skipping upgrade: certifi>=2017.4.17 in /Users/ridhikhurana/opt/anaconda3/lib/python3.7/site-packages (from requests<3.0.0dev,>=2.18.0->google-api-core[grpc]<2.0.0dev,>=1.22.2->google-cloud-speech) (2019.11.28)\n",
      "Requirement already satisfied, skipping upgrade: idna<2.9,>=2.5 in /Users/ridhikhurana/opt/anaconda3/lib/python3.7/site-packages (from requests<3.0.0dev,>=2.18.0->google-api-core[grpc]<2.0.0dev,>=1.22.2->google-cloud-speech) (2.8)\n",
      "Requirement already satisfied, skipping upgrade: chardet<3.1.0,>=3.0.2 in /Users/ridhikhurana/opt/anaconda3/lib/python3.7/site-packages (from requests<3.0.0dev,>=2.18.0->google-api-core[grpc]<2.0.0dev,>=1.22.2->google-cloud-speech) (3.0.4)\n",
      "Requirement already satisfied, skipping upgrade: pyparsing>=2.0.2 in /Users/ridhikhurana/opt/anaconda3/lib/python3.7/site-packages (from packaging>=14.3->google-api-core[grpc]<2.0.0dev,>=1.22.2->google-cloud-speech) (2.4.6)\n",
      "Requirement already satisfied, skipping upgrade: cachetools<5.0,>=2.0.0 in /Users/ridhikhurana/opt/anaconda3/lib/python3.7/site-packages (from google-auth<2.0dev,>=1.21.1->google-api-core[grpc]<2.0.0dev,>=1.22.2->google-cloud-speech) (4.1.1)\n",
      "Requirement already satisfied, skipping upgrade: pyasn1-modules>=0.2.1 in /Users/ridhikhurana/opt/anaconda3/lib/python3.7/site-packages (from google-auth<2.0dev,>=1.21.1->google-api-core[grpc]<2.0.0dev,>=1.22.2->google-cloud-speech) (0.2.8)\n",
      "Requirement already satisfied, skipping upgrade: rsa<5,>=3.1.4; python_version >= \"3.6\" in /Users/ridhikhurana/opt/anaconda3/lib/python3.7/site-packages (from google-auth<2.0dev,>=1.21.1->google-api-core[grpc]<2.0.0dev,>=1.22.2->google-cloud-speech) (4.7.2)\n",
      "Requirement already satisfied, skipping upgrade: pyasn1<0.5.0,>=0.4.6 in /Users/ridhikhurana/opt/anaconda3/lib/python3.7/site-packages (from pyasn1-modules>=0.2.1->google-auth<2.0dev,>=1.21.1->google-api-core[grpc]<2.0.0dev,>=1.22.2->google-cloud-speech) (0.4.8)\n",
      "Note: you may need to restart the kernel to use updated packages.\n"
     ]
    }
   ],
   "source": [
    "pip install --upgrade google-cloud-speech"
   ]
  },
  {
   "cell_type": "code",
   "execution_count": 101,
   "metadata": {},
   "outputs": [],
   "source": [
    "###Translate English into French or another Language##\n",
    "#-*- coding: utf-8-*-\n",
    "\n",
    "value2= translator.translate(result, lang_tgt='es')                            \n"
   ]
  },
  {
   "cell_type": "code",
   "execution_count": 102,
   "metadata": {},
   "outputs": [
    {
     "name": "stdout",
     "output_type": "stream",
     "text": [
      "cómo estás \n"
     ]
    }
   ],
   "source": [
    "print (value2)"
   ]
  },
  {
   "cell_type": "markdown",
   "metadata": {},
   "source": [
    "# BUILDING GUI "
   ]
  },
  {
   "cell_type": "code",
   "execution_count": 104,
   "metadata": {},
   "outputs": [],
   "source": [
    "# importing required module\n",
    "from tkinter import *\n",
    "from gtts import gTTS"
   ]
  },
  {
   "cell_type": "code",
   "execution_count": 105,
   "metadata": {},
   "outputs": [],
   "source": [
    "# this module helps to \n",
    "# play the converted audio  \n",
    "import os"
   ]
  },
  {
   "cell_type": "code",
   "execution_count": 106,
   "metadata": {},
   "outputs": [],
   "source": [
    "# create tkinter window\n",
    "root = Tk()"
   ]
  },
  {
   "cell_type": "code",
   "execution_count": 107,
   "metadata": {},
   "outputs": [],
   "source": [
    "# styling the frame which helps to  \n",
    "# make our background stylish\n",
    "frame1 = Frame(root,\n",
    "               bg = \"lightPink\", \n",
    "               height = \"150\")"
   ]
  },
  {
   "cell_type": "code",
   "execution_count": 108,
   "metadata": {},
   "outputs": [],
   "source": [
    "# plcae the widget in gui window\n",
    "frame1.pack(fill = X)"
   ]
  },
  {
   "cell_type": "code",
   "execution_count": 109,
   "metadata": {},
   "outputs": [],
   "source": [
    "frame2 = Frame(root, \n",
    "               bg = \"lightgreen\", \n",
    "               height = \"750\")\n",
    "frame2.pack(fill=X)"
   ]
  },
  {
   "cell_type": "code",
   "execution_count": 110,
   "metadata": {},
   "outputs": [],
   "source": [
    "# styling the label which show the text  \n",
    "# in our tkinter window\n",
    "label = Label(frame1, text = \"Text to Speech\", \n",
    "              font = \"bold, 30\",\n",
    "              bg = \"lightpink\")"
   ]
  },
  {
   "cell_type": "code",
   "execution_count": 111,
   "metadata": {},
   "outputs": [],
   "source": [
    "label.place(x = 180, y = 70)"
   ]
  },
  {
   "cell_type": "code",
   "execution_count": 112,
   "metadata": {},
   "outputs": [],
   "source": [
    "# entry is used to enter the text  \n",
    "entry = Entry(frame2, width = 45, \n",
    "              bd = 4, font = 14)\n",
    "  \n",
    "entry.place(x = 130, y = 52)\n",
    "entry.insert(0, \"\")"
   ]
  },
  {
   "cell_type": "code",
   "execution_count": 113,
   "metadata": {},
   "outputs": [],
   "source": [
    "# define a function which can \n",
    "# get text and convert into audio\n",
    "def play():\n",
    "  \n",
    "    # Language in which you want to convert  \n",
    "    language = \"en\""
   ]
  },
  {
   "cell_type": "code",
   "execution_count": null,
   "metadata": {},
   "outputs": [],
   "source": []
  },
  {
   "cell_type": "code",
   "execution_count": 122,
   "metadata": {},
   "outputs": [],
   "source": [
    "# cereate a button which holds\n",
    "# our play function using command = play\n",
    "btn = Button(frame2, text = \"SUBMIT\",\n",
    "             width = \"15\", pady = 10,\n",
    "             font = \"bold, 15\", \n",
    "             command = play, bg='yellow')\n",
    "\n",
    "btn.place(x = 250, \n",
    "          y = 130)"
   ]
  },
  {
   "cell_type": "code",
   "execution_count": 123,
   "metadata": {},
   "outputs": [
    {
     "data": {
      "text/plain": [
       "''"
      ]
     },
     "execution_count": 123,
     "metadata": {},
     "output_type": "execute_result"
    }
   ],
   "source": [
    "# give a title  \n",
    "root.title(\"text_to_speech_convertor\")"
   ]
  },
  {
   "cell_type": "code",
   "execution_count": 124,
   "metadata": {},
   "outputs": [
    {
     "data": {
      "text/plain": [
       "''"
      ]
     },
     "execution_count": 124,
     "metadata": {},
     "output_type": "execute_result"
    }
   ],
   "source": [
    "# we can not change the size\n",
    "# if you want you can change\n",
    "root.geometry(\"650x550+350+200\")"
   ]
  },
  {
   "cell_type": "code",
   "execution_count": 127,
   "metadata": {},
   "outputs": [],
   "source": [
    "# start the gui\n",
    "root.mainloop()\n",
    "#this will return a window that will translate the text to speech"
   ]
  }
 ],
 "metadata": {
  "kernelspec": {
   "display_name": "Python 3",
   "language": "python",
   "name": "python3"
  },
  "language_info": {
   "codemirror_mode": {
    "name": "ipython",
    "version": 3
   },
   "file_extension": ".py",
   "mimetype": "text/x-python",
   "name": "python",
   "nbconvert_exporter": "python",
   "pygments_lexer": "ipython3",
   "version": "3.7.6"
  }
 },
 "nbformat": 4,
 "nbformat_minor": 4
}
